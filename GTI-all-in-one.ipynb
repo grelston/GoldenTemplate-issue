{
 "cells": [
  {
   "cell_type": "code",
   "execution_count": null,
   "id": "4c1712e0",
   "metadata": {},
   "outputs": [],
   "source": [
    "import pandas as pd\n",
    "import panel as pn"
   ]
  },
  {
   "cell_type": "code",
   "execution_count": null,
   "id": "348a6cb0",
   "metadata": {},
   "outputs": [],
   "source": [
    "pn.extension('tabulator')"
   ]
  },
  {
   "cell_type": "code",
   "execution_count": null,
   "id": "db223aa1",
   "metadata": {},
   "outputs": [],
   "source": [
    "# Description Tabulator widget\n",
    "descr = ['Under the Weather', 'Top Drawer', 'Happy as a Clam']\n",
    "code = [f'{i+1:02d}' for i in range(len(descr))]\n",
    "dummy = ['dummy'] * len(descr)\n",
    "df1 = pd.DataFrame(dict(code=code, descr=descr, dummy=dummy))\n",
    "\n",
    "t1 = pn.widgets.Tabulator(\n",
    "    df1,\n",
    "    disabled=True, # disable editing => click anywhere selects row\n",
    "    header_filters=True,\n",
    "    hidden_columns=['dummy'],\n",
    "    selectable=1,\n",
    "    show_index=False,\n",
    "    height=200,\n",
    ")"
   ]
  },
  {
   "cell_type": "code",
   "execution_count": null,
   "id": "f6502baf",
   "metadata": {},
   "outputs": [],
   "source": [
    "# Linked item/datetime Tabulator widget\n",
    "df2 = pd.DataFrame(dict(\n",
    "        code_idx=[0, 0, 0, 1, 2],\n",
    "        item=['Rain', 'Sleet', 'Snow', 'T-shirt', 'Joy'],\n",
    "        datetime=pd.date_range(\n",
    "            '2021-12-1 12:00', '2022-1-21 12:00', periods=5)))\n",
    "\n",
    "t2 = pn.widgets.Tabulator(\n",
    "    df2,\n",
    "    disabled=True, # disable editing => click anywhere selects row\n",
    "    header_filters=dict(\n",
    "        code_idx=dict(type='input', func='='),\n",
    "        item=dict(type='input'),\n",
    "        # exclude datetime field so Tabulator widget displays properly\n",
    "    ),\n",
    "    hidden_columns=['code_idx'],\n",
    "    selectable=1,\n",
    "    show_index=False,\n",
    "    height=200,\n",
    ")"
   ]
  },
  {
   "cell_type": "code",
   "execution_count": null,
   "id": "2f625db4",
   "metadata": {},
   "outputs": [],
   "source": [
    "def link_tabs(*events):\n",
    "    for event in events:\n",
    "        if event.name == 'selection':\n",
    "            idx = event.obj.selected_dataframe.index\n",
    "            code_idx = None if idx.empty else idx[0].item()\n",
    "            df = df2[df2.code_idx == code_idx]\n",
    "            t2.selection = []\n",
    "            t2.value = df\n",
    "            \n",
    "t1.param.watch(link_tabs, ['selection'], onlychanged=False)"
   ]
  },
  {
   "cell_type": "code",
   "execution_count": null,
   "id": "10b112ec",
   "metadata": {},
   "outputs": [],
   "source": [
    "pn.Column(t1, t2)"
   ]
  },
  {
   "cell_type": "code",
   "execution_count": null,
   "id": "3747f03a",
   "metadata": {},
   "outputs": [],
   "source": [
    "golden = pn.template.GoldenTemplate(title='Linked Tabulators')\n",
    "\n",
    "golden.main.append(t1)\n",
    "golden.main.append(t2)\n",
    "\n",
    "golden.show()"
   ]
  }
 ],
 "metadata": {
  "kernelspec": {
   "display_name": "Python 3 (ipykernel)",
   "language": "python",
   "name": "python3"
  },
  "language_info": {
   "codemirror_mode": {
    "name": "ipython",
    "version": 3
   },
   "file_extension": ".py",
   "mimetype": "text/x-python",
   "name": "python",
   "nbconvert_exporter": "python",
   "pygments_lexer": "ipython3",
   "version": "3.9.7"
  }
 },
 "nbformat": 4,
 "nbformat_minor": 5
}
